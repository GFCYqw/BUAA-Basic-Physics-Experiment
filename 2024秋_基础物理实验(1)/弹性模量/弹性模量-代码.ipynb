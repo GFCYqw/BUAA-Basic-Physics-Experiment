{
 "cells": [
  {
   "cell_type": "code",
   "execution_count": 143,
   "metadata": {},
   "outputs": [],
   "source": [
    "import numpy as np\n",
    "import math\n",
    "import matplotlib.pyplot as plt"
   ]
  },
  {
   "cell_type": "code",
   "execution_count": 144,
   "metadata": {},
   "outputs": [
    {
     "name": "stdout",
     "output_type": "stream",
     "text": [
      "[0.787, 0.793, 0.791, 0.786, 0.786, 0.788, 0.785, 0.79]\n",
      "0.78825\n"
     ]
    }
   ],
   "source": [
    "Di = [0.782, 0.788, 0.786, 0.781, 0.781, 0.783, 0.780, 0.785]\n",
    "for i in range(len(Di)):\n",
    "    Di[i] -= -0.005\n",
    "D = np.mean(Di)\n",
    "print(Di)\n",
    "print(D)\n",
    "\n",
    "\n",
    "D /= 1000\n",
    "H = 88.12 / 100\n",
    "L = 39.95 / 100\n",
    "b = 8.50 / 100\n",
    "g = 9.8012\n",
    "pi = 3.14159"
   ]
  },
  {
   "cell_type": "code",
   "execution_count": 145,
   "metadata": {},
   "outputs": [
    {
     "name": "stdout",
     "output_type": "stream",
     "text": [
      "x_bar = 5.5\n",
      "y_bar = 1.0010000000000001\n",
      "\n",
      "r = 0.9997117808120066\n",
      "k = 0.18393939393939393\n",
      "a = -0.010666666666666602\n",
      "E = 180892001681.55722\n"
     ]
    },
    {
     "data": {
      "image/png": "[encoded data removed]",
      "text/plain": [
       "<Figure size 640x480 with 1 Axes>"
      ]
     },
     "metadata": {},
     "output_type": "display_data"
    }
   ],
   "source": [
    "# 设置支持中文的字体\n",
    "plt.rcParams[\"font.sans-serif\"] = [\"SimHei\"]  # 使用黑体\n",
    "plt.rcParams[\"axes.unicode_minus\"] = False  # 用来正常显示负号\n",
    "\n",
    "# 数据初始化\n",
    "x = range(1, 11)\n",
    "y = [0.91, 1.10, 1.29, 1.50, 1.68, 1.84, 2.01, 2.21, 2.39, 2.58]\n",
    "\n",
    "# 进行调整\n",
    "for i in range(len(y)):\n",
    "    y[i] -= 0.75\n",
    "\n",
    "# 计算平均值\n",
    "x_bar = np.mean(x)\n",
    "y_bar = np.mean(y)\n",
    "print(\"x_bar = {}\\ny_bar = {}\\n\".format(x_bar, y_bar))\n",
    "\n",
    "# 计算相关系数\n",
    "pccs = np.corrcoef(x, y)\n",
    "r = pccs[0, 1]\n",
    "print(\"r = {}\".format(r))\n",
    "\n",
    "# 线性回归计算\n",
    "k = np.sum((x - x_bar) * (y - y_bar)) / np.sum((x - x_bar) ** 2)\n",
    "a = y_bar - k * x_bar\n",
    "print(\"k = {}\\na = {}\".format(k, a))\n",
    "\n",
    "k /= 100\n",
    "E = 16 * g * L * H / (pi * D**2 * b * k)\n",
    "print(\"E = {}\".format(E))\n",
    "\n",
    "# 绘制图形\n",
    "plt.scatter(x, y, color=\"blue\", label=\"数据点\")  # 绘制散点图\n",
    "plt.plot(x, 100 * k * np.array(x) + a, color=\"red\", label=\"拟合线\")  # 绘制回归线\n",
    "\n",
    "# 设置图形标题和标签\n",
    "plt.title(\"线性回归示例\")\n",
    "plt.xlabel(\"x\")\n",
    "plt.ylabel(\"y\")\n",
    "plt.legend()\n",
    "plt.grid()\n",
    "\n",
    "# 显示图形\n",
    "plt.show()"
   ]
  },
  {
   "cell_type": "code",
   "execution_count": 146,
   "metadata": {},
   "outputs": [
    {
     "name": "stdout",
     "output_type": "stream",
     "text": [
      "mu_a = 0.000995525704626169\n",
      "mu_b = 0.0005773502691896258\n",
      "mu = 0.0011508278593711414\n",
      "0.0013465531079389329\n"
     ]
    }
   ],
   "source": [
    "def mu(x, delta=0):\n",
    "    mu_a = np.sqrt(np.sum((x - np.mean(x)) ** 2) / (len(x) * (len(x) - 1)))\n",
    "    mu_b = delta / np.sqrt(3)\n",
    "    mu = np.sqrt(mu_a**2 + mu_b**2)\n",
    "    print(\"mu_a = {}\\nmu_b = {}\\nmu = {}\".format(mu_a, mu_b, mu))\n",
    "    return mu_a, mu_b, mu\n",
    "\n",
    "\n",
    "mu(Di, 0.001)\n",
    "print(np.sqrt((1.2165e-3) ** 2 + (5.7735e-4) ** 2))"
   ]
  },
  {
   "cell_type": "code",
   "execution_count": 147,
   "metadata": {},
   "outputs": [
    {
     "name": "stdout",
     "output_type": "stream",
     "text": [
      "1.5617089365734674e-05\n",
      "38.5\n",
      "5.5\n",
      "0.0015891043154093207\n",
      "2.2280362878552944e-05\n"
     ]
    }
   ],
   "source": [
    "print(k * np.sqrt(1 / (8) * (1 / (r**2) - 1)))\n",
    "\n",
    "x2_bar = 0\n",
    "for i in range(10):\n",
    "    x2_bar += x[i] ** 2\n",
    "x2_bar /= 10\n",
    "\n",
    "print(x2_bar)\n",
    "print(x_bar)\n",
    "print(0.025 / np.sqrt(3) * np.sqrt(1 / (10 * (x2_bar - x_bar**2))))\n",
    "print(np.sqrt(1.5617e-5**2 + 1.5891e-5**2))"
   ]
  },
  {
   "cell_type": "code",
   "execution_count": 148,
   "metadata": {},
   "outputs": [
    {
     "name": "stdout",
     "output_type": "stream",
     "text": [
      "0.006317930549937943\n",
      "0.01142863103663336\n"
     ]
    }
   ],
   "source": [
    "def test(x):\n",
    "    sum = 0\n",
    "    for i in x:\n",
    "        sum += i**2\n",
    "    return np.sqrt(sum)\n",
    "\n",
    "\n",
    "print(\n",
    "    test(\n",
    "        [\n",
    "            0.1732 / L / 100,\n",
    "            0.2887 / H / 100,\n",
    "            2 * 1.1508e-3 / D / 1000,\n",
    "            0.01155 / b / 100,\n",
    "            2.2280e-5 / k / 100,\n",
    "        ]\n",
    "    )\n",
    ")\n",
    "print(\n",
    "    test(\n",
    "        [\n",
    "            0.1732 / L / 100,\n",
    "            0.2887 / H / 100,\n",
    "            2 * 1.1508e-3 / D / 1000,\n",
    "            0.01155 / b / 100,\n",
    "            2.2280e-5 / k / 100,\n",
    "        ]\n",
    "    )\n",
    "    * E\n",
    "    * 1e-11\n",
    ")"
   ]
  },
  {
   "cell_type": "markdown",
   "metadata": {},
   "source": [
    "### 转动惯量测量实验"
   ]
  },
  {
   "cell_type": "code",
   "execution_count": 149,
   "metadata": {},
   "outputs": [
    {
     "name": "stdout",
     "output_type": "stream",
     "text": [
      "m1 = 1108.8366666666664\n",
      "m2 = 1104.4733333333334\n",
      "m3 = 1039.0633333333333\n",
      "t0 = 0.8211400000000001\n",
      "t1 = 1.5600399999999999\n",
      "t2 = 1.9667000000000001\n",
      "t3 = 1.2255\n",
      "t4 = 1.9204\n"
     ]
    }
   ],
   "source": [
    "m1 = np.mean([1108.84, 1108.85, 1108.82])\n",
    "m2 = np.mean([1104.48, 1104.49, 1104.45])\n",
    "m3 = np.mean([1039.05, 1039.07, 1039.07])\n",
    "\n",
    "print(\"m1 = {}\\nm2 = {}\\nm3 = {}\".format(m1, m2, m3))\n",
    "\n",
    "t0 = np.mean([8.218, 8.214, 8.217, 8.207, 8.201]) / 10\n",
    "t1 = np.mean([15.610, 15.585, 15.589, 15.625, 15.593]) / 10\n",
    "t2 = 19.667 / 10\n",
    "t3 = 12.255 / 10\n",
    "t4 = 19.204 / 10\n",
    "\n",
    "print(\"t0 = {}\\nt1 = {}\\nt2 = {}\\nt3 = {}\\nt4 = {}\".format(t0, t1, t2, t3, t4))"
   ]
  },
  {
   "cell_type": "code",
   "execution_count": 150,
   "metadata": {},
   "outputs": [
    {
     "name": "stdout",
     "output_type": "stream",
     "text": [
      "K = 0.0311483\n",
      "I0 = 0.0005319966935048179\n",
      "I2 = 0.002519763804686074\n",
      "I3 = 0.0011849520551121548\n",
      "I4 = 0.0029097624959042545\n"
     ]
    }
   ],
   "source": [
    "I0 = 1 / 8 * 1.10884 * 0.1001**2\n",
    "K = 4 * pi**2 * I0 / (t1**2 - t0**2)\n",
    "K = 4 * 3.141593**2 * 1.3882e-3 / (1.56004**2 - 0.82114**2)\n",
    "K = 3.11483e-2\n",
    "I0 = 0.82114**2 * K / (4 * 3.141593**2)\n",
    "\n",
    "c = 1.3882e-3 / (1.56004**2 - 0.82114**2)\n",
    "I2 = c * (1.9667**2 - 0.82114**2)\n",
    "I3 = c * (1.2255**2)\n",
    "I4 = c * (1.9204**2)\n",
    "print(\"K = {}\\nI0 = {}\\nI2 = {}\\nI3 = {}\\nI4 = {}\".format(K, I0, I2, I3, I4))\n",
    "I2 = 2.520e-3\n",
    "I3 = 1.185e-3\n",
    "I4 = 2.910e-3"
   ]
  },
  {
   "cell_type": "code",
   "execution_count": 151,
   "metadata": {},
   "outputs": [
    {
     "name": "stdout",
     "output_type": "stream",
     "text": [
      "J2 = 0.002607\n",
      "J3 = 0.00126\n",
      "J4 = 0.002756\n",
      "n2 = 3.337%\n",
      "n3 = 5.952%\n",
      "n4 = 5.588%\n"
     ]
    }
   ],
   "source": [
    "J2 = 1 / 2 * 1.10447 * ((0.1001 / 2) ** 2 + (0.09414 / 2) ** 2)\n",
    "J3 = 2 / 5 * 1.03906 * (0.1101 / 2) ** 2\n",
    "J4 = 1 / 12 * 0.11504 * 0.5362**2\n",
    "\n",
    "J2 = 2.607e-3\n",
    "J3 = 1.260e-3\n",
    "J4 = 2.756e-3\n",
    "print(\"J2 = {}\\nJ3 = {}\\nJ4 = {}\".format(J2, J3, J4))\n",
    "\n",
    "n2 = abs(I2 - J2) / J2 * 100\n",
    "n3 = abs(I3 - J3) / J3 * 100\n",
    "n4 = abs(I4 - J4) / J4 * 100\n",
    "print(\"n2 = {:.3f}%\\nn3 = {:.3f}%\\nn4 = {:.3f}%\".format(n2, n3, n4))"
   ]
  },
  {
   "cell_type": "code",
   "execution_count": 152,
   "metadata": {},
   "outputs": [
    {
     "name": "stdout",
     "output_type": "stream",
     "text": [
      "l=4.33542\n",
      "h=3.27621\n",
      "d=2.91989\n",
      "b=1.35882\n",
      "k=0.12113\n",
      "ll=47.089%\n",
      "hh=26.890%\n",
      "dd=21.359%\n",
      "bb=4.626%\n",
      "kk=0.037%\n",
      "100.00065068811931\n"
     ]
    }
   ],
   "source": [
    "l = 0.1732 / 39.95\n",
    "h = 0.2887 / 88.12\n",
    "d = 2 * 1.1508e-3 / 0.78825\n",
    "b = 0.01155 / 8.50\n",
    "k = 2.2280e-5 / 0.183939\n",
    "e = 0.00631791\n",
    "\n",
    "ll = l**2 / e**2 * 100\n",
    "hh = h**2 / e**2 * 100\n",
    "dd = d**2 / e**2 * 100\n",
    "bb = b**2 / e**2 * 100\n",
    "kk = k**2 / e**2 * 100\n",
    "\n",
    "print(\n",
    "    \"l={:.5f}\\nh={:.5f}\\nd={:.5f}\\nb={:.5f}\\nk={:.5f}\".format(\n",
    "        1000 * l, 1000 * h, 1000 * d, 1000 * b, 1000 * k\n",
    "    )\n",
    ")\n",
    "print(\n",
    "    \"ll={:.3f}%\\nhh={:.3f}%\\ndd={:.3f}%\\nbb={:.3f}%\\nkk={:.3f}%\".format(\n",
    "        ll, hh, dd, bb, kk\n",
    "    )\n",
    ")\n",
    "print(ll + hh + dd + bb + kk)"
   ]
  }
 ],
 "metadata": {
  "kernelspec": {
   "display_name": ".venv",
   "language": "python",
   "name": "python3"
  },
  "language_info": {
   "codemirror_mode": {
    "name": "ipython",
    "version": 3
   },
   "file_extension": ".py",
   "mimetype": "text/x-python",
   "name": "python",
   "nbconvert_exporter": "python",
   "pygments_lexer": "ipython3",
   "version": "3.10.4"
  }
 },
 "nbformat": 4,
 "nbformat_minor": 2
}
