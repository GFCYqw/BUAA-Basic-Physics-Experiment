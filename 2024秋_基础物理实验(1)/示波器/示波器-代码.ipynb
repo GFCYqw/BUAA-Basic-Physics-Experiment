{
 "cells": [
  {
   "cell_type": "code",
   "execution_count": 4,
   "metadata": {},
   "outputs": [],
   "source": [
    "import numpy as np \n",
    "import math\n",
    "import matplotlib.pyplot as plt"
   ]
  },
  {
   "cell_type": "code",
   "execution_count": 43,
   "metadata": {},
   "outputs": [
    {
     "name": "stdout",
     "output_type": "stream",
     "text": [
      "x_bar = 5.5\n",
      "y_bar = 78.1969\n",
      "f_bar = 35.6565\n",
      "r = 0.9999955444208752\n",
      "a = 4.912660606060606\n",
      "b = 51.17726666666667\n",
      "lambda = 9.825321212121212\n",
      "c = 350.3365658\n"
     ]
    }
   ],
   "source": [
    "x = range(1,11)\n",
    "y = [56.102, 60.990, 65.985, 70.760, 75.739, 80.594, 85.588, 90.536, 95.366, 100.309]\n",
    "f = [35.655, 35.658]\n",
    "\n",
    "x_bar = np.mean(x)\n",
    "y_bar = np.mean(y)\n",
    "f_bar = np.mean(f)\n",
    "print(\"x_bar = {}\\ny_bar = {}\\nf_bar = {}\".format(x_bar,y_bar,f_bar))\n",
    "\n",
    "pccs = np.corrcoef(x, y)\n",
    "r = pccs[0,1]\n",
    "print(\"r = {}\".format(r))\n",
    "\n",
    "# y = a * x + b\n",
    "a = np.sum((x - x_bar) * (y - y_bar)) / np.sum((x - x_bar)**2)\n",
    "b = y_bar - a * x_bar\n",
    "print(\"a = {}\\nb = {}\".format(a, b))\n",
    "\n",
    "\n",
    "# x1 = [0, 11]\n",
    "# y1 = [a * 0 + b, a * 11 + b]\n",
    "\n",
    "# plt.plot(x1, y1)\n",
    "# plt.scatter(x, y)\n",
    "# plt.scatter(x_bar, y_bar)\n",
    "# plt.show()\n",
    "\n",
    "c = 2 * a * f_bar\n",
    "print(\"lambda = {}\\nc = {}\".format(2*a, c))"
   ]
  },
  {
   "cell_type": "code",
   "execution_count": 47,
   "metadata": {},
   "outputs": [
    {
     "name": "stdout",
     "output_type": "stream",
     "text": [
      "0.0015000000000000568 0.0008660254037844715\n",
      "0.0021108313298708716\n",
      "0.057845676377494555 0.11569135275498911\n",
      "4.125157495267715\n",
      "c_t = 346.576155979015\n",
      "eta = 1.0850168876628314%\n"
     ]
    }
   ],
   "source": [
    "# 不确定度\n",
    "delta_f = abs(f[0] - f[1]) / 2\n",
    "mu_f = delta_f / np.sqrt(3)\n",
    "\n",
    "print(delta_f, mu_f)\n",
    "\n",
    "mu_a = np.sqrt((1/r**2 - 1)/(10-8))\n",
    "print(mu_a)\n",
    "\n",
    "mu_b1 = 0.005 / np.sqrt(3)\n",
    "mu_b2 = 0.1/ np.sqrt(3)\n",
    "mu_l = np.sqrt(mu_a**2 + mu_b1**2 + mu_b2**2)\n",
    "print(mu_l, 2*mu_l)\n",
    "\n",
    "mu_c = c * np.sqrt((mu_f/f_bar)**2 + (mu_l/a)**2)\n",
    "print(mu_c)\n",
    "\n",
    "t = 25.5\n",
    "t_0 = 273.15\n",
    "v_0 = 331.45\n",
    "c_t = v_0 * np.sqrt(1+t/t_0)\n",
    "print(\"c_t = {}\".format(c_t))\n",
    "eta = abs(c - c_t) / c_t * 100\n",
    "print(\"eta = {}%\".format(eta))"
   ]
  }
 ],
 "metadata": {
  "kernelspec": {
   "display_name": ".venv",
   "language": "python",
   "name": "python3"
  },
  "language_info": {
   "codemirror_mode": {
    "name": "ipython",
    "version": 3
   },
   "file_extension": ".py",
   "mimetype": "text/x-python",
   "name": "python",
   "nbconvert_exporter": "python",
   "pygments_lexer": "ipython3",
   "version": "3.10.4"
  }
 },
 "nbformat": 4,
 "nbformat_minor": 2
}
