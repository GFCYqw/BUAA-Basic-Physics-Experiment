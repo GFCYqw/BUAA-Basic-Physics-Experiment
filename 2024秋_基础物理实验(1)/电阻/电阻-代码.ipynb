{
 "cells": [
  {
   "cell_type": "code",
   "execution_count": 1,
   "metadata": {},
   "outputs": [],
   "source": [
    "import numpy as np \n",
    "import math"
   ]
  },
  {
   "cell_type": "code",
   "execution_count": 20,
   "metadata": {},
   "outputs": [
    {
     "name": "stdout",
     "output_type": "stream",
     "text": [
      "27.53 & 59.233000000000004 & 90.19 & 118.86 & 148.945 & 184.29500000000002 & 209.03 & 239.065 & "
     ]
    }
   ],
   "source": [
    "np.x = [27.33,58.833,89.74,119.61,149.50,183.51,210.15,239.81]\n",
    "np.y = [27.73,59.633,90.64,118.11,148.39,185.08,207.91,238.32]\n",
    "for i in range(0,8):\n",
    "    print((np.x[i] + np.y[i]) / 2, end=\"\")\n",
    "    print(\" & \",end=\"\")\n"
   ]
  },
  {
   "cell_type": "code",
   "execution_count": 39,
   "metadata": {},
   "outputs": [],
   "source": [
    "np.x = [50,100,150,200,250,300,350,400]\n",
    "np.y = [27.53,59.233,90.19,118.86,148.945,184.295,209.03,239.065]\n"
   ]
  },
  {
   "cell_type": "code",
   "execution_count": 64,
   "metadata": {},
   "outputs": [
    {
     "name": "stdout",
     "output_type": "stream",
     "text": [
      "30625\n",
      "15625\n",
      "5625\n",
      "625\n",
      "625\n",
      "5625\n",
      "15625\n",
      "30625\n",
      "43.30127018922193\n"
     ]
    }
   ],
   "source": [
    "a = 0\n",
    "for i in range(0,8):\n",
    "    print((np.x[i] - 225) * (np.x[i] - 225))\n",
    "    a += (np.x[i] - 225) * (np.x[i] - 225)\n",
    "print(math.sqrt(a/56))"
   ]
  },
  {
   "cell_type": "code",
   "execution_count": 46,
   "metadata": {},
   "outputs": [
    {
     "name": "stdout",
     "output_type": "stream",
     "text": [
      "0.225\n",
      "134.6435\n",
      "0.06375\n",
      "22940.407507999997\n",
      "38.23894375\n"
     ]
    }
   ],
   "source": [
    "sum_x = 0\n",
    "sum_y = 0\n",
    "sum_x2 = 0\n",
    "sum_y2 = 0\n",
    "sum_xy = 0\n",
    "for i in range(0,8):\n",
    "    sum_x += np.x[i]\n",
    "    sum_y += np.y[i]\n",
    "    sum_x2 += np.x[i] * np.x[i]\n",
    "    sum_y2 += np.y[i] * np.y[i]\n",
    "    sum_xy += np.x[i] * np.y[i]\n",
    "    \n",
    "sum_x /= 8000\n",
    "sum_y /= 8\n",
    "sum_x2 /= 8000000\n",
    "sum_y2 /= 8\n",
    "sum_xy /= 8000\n",
    "\n",
    "print(sum_x)\n",
    "print(sum_y)\n",
    "print(sum_x2)\n",
    "print(sum_y2)\n",
    "print(sum_xy)\n"
   ]
  },
  {
   "cell_type": "code",
   "execution_count": 49,
   "metadata": {},
   "outputs": [
    {
     "name": "stdout",
     "output_type": "stream",
     "text": [
      "-605.2690476190477\n",
      "0.9996691227782716\n"
     ]
    }
   ],
   "source": [
    "b = (sum_xy - sum_x * sum_y) / (sum_x * sum_x - sum_x2)\n",
    "print(b)\n",
    "\n",
    "r = (sum_xy - sum_x * sum_y) / math.sqrt((sum_x * sum_x - sum_x2)*(sum_y * sum_y - sum_y2))\n",
    "print(r)"
   ]
  },
  {
   "cell_type": "code",
   "execution_count": 56,
   "metadata": {},
   "outputs": [
    {
     "data": {
      "text/plain": [
       "2415.027282931548"
      ]
     },
     "execution_count": 56,
     "metadata": {},
     "output_type": "execute_result"
    }
   ],
   "source": [
    "(3.995 * 3.995) * 605.2690476190477 / (4)\n"
   ]
  },
  {
   "cell_type": "code",
   "execution_count": 66,
   "metadata": {},
   "outputs": [
    {
     "data": {
      "text/plain": [
       "6.358125086119959"
      ]
     },
     "execution_count": 66,
     "metadata": {},
     "output_type": "execute_result"
    }
   ],
   "source": [
    "605.2690476190477 * math.sqrt((1 / (r * r) - 1 )/ 6)"
   ]
  },
  {
   "cell_type": "code",
   "execution_count": 70,
   "metadata": {},
   "outputs": [
    {
     "data": {
      "text/plain": [
       "7.970423928895182e-05"
      ]
     },
     "execution_count": 70,
     "metadata": {},
     "output_type": "execute_result"
    }
   ],
   "source": [
    "db2 = (3.995 / 1000 * 3.995 / 1000)\n",
    "\n",
    "math.sqrt((math.pi * db2 / 4 * 6.358125086119959) * (math.pi * db2 / 4 * 6.358125086119959) + (605.2690476190477 * math.pi * db2/2 * 6.06 / 100000) * (605.2690476190477 * math.pi * db2/2 * 6.06 / 100000))\n",
    "\n"
   ]
  },
  {
   "cell_type": "code",
   "execution_count": 26,
   "metadata": {},
   "outputs": [
    {
     "name": "stdout",
     "output_type": "stream",
     "text": [
      "1.105 0.6379720474545365\n",
      "2.11 1.2182090679901103\n",
      "1.4449999999999998 0.8342711389790092\n",
      "1.77 1.0219099764656376\n"
     ]
    }
   ],
   "source": [
    "x = [0,0,0,0,0,0]\n",
    "\n",
    "for s in [\"1027.2\",\"1972.8\",\"1360.1\",\"1639.9\"]:\n",
    "    for i in range(0, 6):\n",
    "        try:\n",
    "            x[i] = int(s[i])\n",
    "            # print(x[i])\n",
    "        except:\n",
    "            continue\n",
    "    delta = x[0] + x[1]/10 + x[2]*2/100 + x[3]*5/1000 + x[5]*5/1000 + 0.02\n",
    "    print(delta, delta/math.sqrt(3))\n",
    "\n"
   ]
  },
  {
   "cell_type": "code",
   "execution_count": 28,
   "metadata": {},
   "outputs": [
    {
     "data": {
      "text/plain": [
       "0.0013749472609150236"
      ]
     },
     "execution_count": 28,
     "metadata": {},
     "output_type": "execute_result"
    }
   ],
   "source": [
    "r1=1027.2\n",
    "r2=1972.8\n",
    "r1_=1360.1\n",
    "r2_=1639.9\n",
    "\n",
    "a = (r1/r2*1.105)*(r1/r2*1.105) + 2.11*2.11 + (r1_/r2_*1.445)*(r1_/r2_*1.445) + 1.77*1.77\n",
    "1/(1027.2 + 1972.8) * math.sqrt(a)*1.3488"
   ]
  },
  {
   "cell_type": "code",
   "execution_count": 7,
   "metadata": {},
   "outputs": [
    {
     "name": "stdout",
     "output_type": "stream",
     "text": [
      "3650.0\n",
      "11.31296\n",
      "203.08\n"
     ]
    }
   ],
   "source": [
    "np.x = [50,55,60,65,70]\n",
    "np.y = [2.96,3.14,3.38,3.54,3.74]\n",
    "\n",
    "xbar = 0\n",
    "for a in np.x:\n",
    "    xbar += a * a\n",
    "xbar /= 5\n",
    "\n",
    "print(xbar)\n",
    "\n",
    "ybar = 0\n",
    "for a in np.y:\n",
    "    ybar += a * a\n",
    "ybar /= 5\n",
    "\n",
    "print(ybar)\n",
    "\n",
    "xybar = 0\n",
    "for a,b in zip(np.x,np.y):\n",
    "    xybar += a * b\n",
    "xybar /= 5\n",
    "\n",
    "print(xybar)"
   ]
  },
  {
   "cell_type": "code",
   "execution_count": 11,
   "metadata": {},
   "outputs": [
    {
     "data": {
      "text/plain": [
       "11.235904"
      ]
     },
     "execution_count": 11,
     "metadata": {},
     "output_type": "execute_result"
    }
   ],
   "source": [
    "x_bar = 60\n",
    "x_bar2 = 3600\n",
    "x2_bar = 3650\n",
    "\n",
    "y_bar = 3.352\n",
    "y_bar2 = 11.235904\n",
    "y2_bar = 11.31296\n",
    "\n",
    "xy_bar = 203.08\n",
    "\n"
   ]
  }
 ],
 "metadata": {
  "kernelspec": {
   "display_name": ".venv",
   "language": "python",
   "name": "python3"
  },
  "language_info": {
   "codemirror_mode": {
    "name": "ipython",
    "version": 3
   },
   "file_extension": ".py",
   "mimetype": "text/x-python",
   "name": "python",
   "nbconvert_exporter": "python",
   "pygments_lexer": "ipython3",
   "version": "3.10.4"
  }
 },
 "nbformat": 4,
 "nbformat_minor": 2
}
