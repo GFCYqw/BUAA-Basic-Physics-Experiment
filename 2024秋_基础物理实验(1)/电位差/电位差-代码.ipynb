{
 "cells": [
  {
   "cell_type": "code",
   "execution_count": 1,
   "metadata": {},
   "outputs": [],
   "source": [
    "import numpy as np \n",
    "import math"
   ]
  },
  {
   "cell_type": "code",
   "execution_count": 2,
   "metadata": {},
   "outputs": [],
   "source": [
    "l = [67.24, 67.40, 68.00, 67.42, 68.02]\n",
    "d = [33.72, 34.80, 35.60, 34.00, 33.90]\n",
    "h = [50.52, 50.60, 50.48, 50.66, 50.80]"
   ]
  },
  {
   "cell_type": "code",
   "execution_count": 12,
   "metadata": {},
   "outputs": [
    {
     "name": "stdout",
     "output_type": "stream",
     "text": [
      "67.616\n",
      "34.404\n",
      "50.612\n"
     ]
    }
   ],
   "source": [
    "def bar(arr):\n",
    "    sum = 0\n",
    "    for i in arr:\n",
    "        sum += i\n",
    "    return sum / 5\n",
    "\n",
    "l_bar = bar(l)\n",
    "d_bar = bar(d)\n",
    "h_bar = bar(h)\n",
    "\n",
    "print(bar(l))\n",
    "print(bar(d))\n",
    "print(bar(h))"
   ]
  },
  {
   "cell_type": "code",
   "execution_count": 14,
   "metadata": {},
   "outputs": [
    {
     "name": "stdout",
     "output_type": "stream",
     "text": [
      "0.5371199999999975\n",
      "0.16387800340497158\n",
      "2.4723200000000043\n",
      "0.35159067109353204\n",
      "0.06367999999999882\n",
      "0.056426943918663014\n"
     ]
    }
   ],
   "source": [
    "def mu(arr,x_bar):\n",
    "    sum = 0\n",
    "    for i in arr:\n",
    "        sum += (i - x_bar) * (i - x_bar)\n",
    "    print(sum)\n",
    "    return math.sqrt(sum / 20)\n",
    "\n",
    "print(mu(l,l_bar))\n",
    "print(mu(d,d_bar))\n",
    "print(mu(h,h_bar))"
   ]
  }
 ],
 "metadata": {
  "kernelspec": {
   "display_name": ".venv",
   "language": "python",
   "name": "python3"
  },
  "language_info": {
   "codemirror_mode": {
    "name": "ipython",
    "version": 3
   },
   "file_extension": ".py",
   "mimetype": "text/x-python",
   "name": "python",
   "nbconvert_exporter": "python",
   "pygments_lexer": "ipython3",
   "version": "3.10.4"
  }
 },
 "nbformat": 4,
 "nbformat_minor": 2
}
