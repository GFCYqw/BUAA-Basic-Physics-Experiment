{
 "cells": [
  {
   "cell_type": "code",
   "execution_count": 1,
   "metadata": {},
   "outputs": [],
   "source": [
    "import numpy as np\n",
    "import math\n",
    "import matplotlib.pyplot as plt"
   ]
  },
  {
   "cell_type": "code",
   "execution_count": 25,
   "metadata": {},
   "outputs": [
    {
     "name": "stdout",
     "output_type": "stream",
     "text": [
      "0.004898982887626634\n",
      "0.037094475779193045\n",
      "0.007483323682242319\n",
      "0.034985713274609836\n",
      "0.037094475779193045\n"
     ]
    }
   ],
   "source": [
    "h_b = [7.78, 7.84, 7.82, 7.90, 7.72]\n",
    "d_b = [129.50, 129.52, 129.34, 129.40, 129.50]\n",
    "h_p = [7.68, 7.72, 7.72, 7.70, 7.70]\n",
    "d_p = [129.96, 129.88, 129.84, 129.80, 130.00]\n",
    "m_p = [909.91, 909.89, 909.91, 909.89, 909.91]\n",
    "\n",
    "\n",
    "def average(x):\n",
    "    return np.sum(x) / 5\n",
    "\n",
    "\n",
    "def mu_a(x):\n",
    "    return np.sqrt(np.sum([(i - average(x))**2 for i in x]) / 20)\n",
    "\n",
    "\n",
    "def mu(mu_a, mu_b):\n",
    "    return np.sqrt(mu_a**2 + mu_b**2)\n",
    "\n",
    "\n",
    "print(mu(mu_a(m_p), 5.7735e-6))\n",
    "print(mu(mu_a(d_p), 1.1547e-5))\n",
    "print(mu(mu_a(h_p), 1.1547e-5))\n",
    "print(mu(mu_a(d_b), 1.1547e-5))\n",
    "print(mu(mu_a(d_p), 1.1547e-5))"
   ]
  },
  {
   "cell_type": "code",
   "execution_count": 18,
   "metadata": {},
   "outputs": [
    {
     "name": "stdout",
     "output_type": "stream",
     "text": [
      "12.0\n",
      "2.0 None\n"
     ]
    }
   ],
   "source": [
    "a = [1, 2, 3]\n",
    "b = 1\n",
    "\n",
    "\n",
    "def average(x):\n",
    "    return np.sum(x) / 3\n",
    "\n",
    "\n",
    "def mu_a(x):\n",
    "    print(np.sum([i + average(x) for i in x]))\n",
    "\n",
    "\n",
    "print(average(a), mu_a(a))"
   ]
  },
  {
   "cell_type": "code",
   "execution_count": 33,
   "metadata": {},
   "outputs": [
    {
     "name": "stdout",
     "output_type": "stream",
     "text": [
      "0.047669288225452175\n",
      "0.008248693634532244\n",
      "0.17304\n"
     ]
    }
   ],
   "source": [
    "m1 = np.sqrt((2.8868e-2 / (52.1 - 38.8))**2 + (0.43301 / 270)**2)\n",
    "m2 = 4.899e-3 / average(m_p)\n",
    "m3 = 2 * np.sqrt(0.03709 * average(h_p)**2 + (7.4833e-3 * average(d_p))**2) / \\\n",
    "    (average(d_p) + 4 * average(h_p)) / (average(d_p) + 2 * average(h_p))\n",
    "m4 = np.sqrt((0.3499 / average(d_b))**2 + (0.37094 / average(h_b))**2 + (5.7735e-2 / (78 - 45.1))**2)\n",
    "m_k = np.sqrt(m1**2 + m2**2 + m3**2 + m4**2)\n",
    "print(m_k)\n",
    "print(m_k * 0.17304)\n",
    "print(0.17304)"
   ]
  }
 ],
 "metadata": {
  "kernelspec": {
   "display_name": ".venv",
   "language": "python",
   "name": "python3"
  },
  "language_info": {
   "codemirror_mode": {
    "name": "ipython",
    "version": 3
   },
   "file_extension": ".py",
   "mimetype": "text/x-python",
   "name": "python",
   "nbconvert_exporter": "python",
   "pygments_lexer": "ipython3",
   "version": "3.10.4"
  }
 },
 "nbformat": 4,
 "nbformat_minor": 2
}
