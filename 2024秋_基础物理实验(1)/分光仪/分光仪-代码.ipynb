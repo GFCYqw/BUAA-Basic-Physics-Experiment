{
 "cells": [
  {
   "cell_type": "code",
   "execution_count": 18,
   "metadata": {},
   "outputs": [],
   "source": [
    "import numpy as np \n",
    "import math"
   ]
  },
  {
   "cell_type": "code",
   "execution_count": 19,
   "metadata": {},
   "outputs": [
    {
     "name": "stdout",
     "output_type": "stream",
     "text": [
      "[[-120 -120 -120  240  240 -120]\n",
      " [ -59    6    4   -2   -5    5]]\n"
     ]
    }
   ],
   "source": [
    "a1 = np.array([\n",
    "    [155, 221, 289, 0, 72, 143],\n",
    "    [59, 24, 52, 45, 10, 1]\n",
    "])\n",
    "\n",
    "a2 = np.array([\n",
    "    [35, 101, 169, 240, 312, 23],\n",
    "    [0, 30, 56, 43, 5, 6]\n",
    "])\n",
    "\n",
    "a2_a1 = np.array([\n",
    "    [0, 0, 0, 0, 0, 0],\n",
    "    [0, 0, 0, 0, 0, 0]\n",
    "    ])\n",
    "\n",
    "for i in range(0,6):\n",
    "    a2_a1[0][i] = a2[0][i] - a1[0][i]\n",
    "    a2_a1[1][i] = a2[1][i] - a1[1][i]\n",
    "print(a2_a1) "
   ]
  },
  {
   "cell_type": "code",
   "execution_count": 20,
   "metadata": {},
   "outputs": [
    {
     "name": "stdout",
     "output_type": "stream",
     "text": [
      "[[-120  240  240 -120 -120 -120]\n",
      " [   1   -2   -3  -29    5    0]]\n"
     ]
    }
   ],
   "source": [
    "b1 = np.array([\n",
    "    [335, 41, 109, 180, 252, 323],\n",
    "    [56, 25, 55, 43, 2, 3]\n",
    "])\n",
    "\n",
    "b2 = np.array([\n",
    "    [215, 281, 349, 60, 132, 203],\n",
    "    [57, 23, 52, 14, 7, 3]\n",
    "])\n",
    "\n",
    "b2_b1 = np.array([\n",
    "    [0, 0, 0, 0, 0, 0],\n",
    "    [0, 0, 0, 0, 0, 0]\n",
    "    ])\n",
    "\n",
    "for i in range(0,6):\n",
    "    b2_b1[0][i] = b2[0][i] - b1[0][i]\n",
    "    b2_b1[1][i] = b2[1][i] - b1[1][i]\n",
    "print(b2_b1) "
   ]
  },
  {
   "cell_type": "code",
   "execution_count": 21,
   "metadata": {},
   "outputs": [
    {
     "name": "stdout",
     "output_type": "stream",
     "text": [
      "[[-240  120  120  120  120 -240]\n",
      " [ -58    4    1  -31    0    5]]\n"
     ]
    }
   ],
   "source": [
    "theta = np.array([\n",
    "    [0, 0, 0, 0, 0, 0],\n",
    "    [0, 0, 0, 0, 0, 0]\n",
    "    ])\n",
    "for i in range(0,6):\n",
    "    theta[0][i] = a2_a1[0][i] + b2_b1[0][i]\n",
    "    theta[1][i] = a2_a1[1][i] + b2_b1[1][i]\n",
    "print(theta) "
   ]
  },
  {
   "cell_type": "code",
   "execution_count": 24,
   "metadata": {},
   "outputs": [
    {
     "name": "stdout",
     "output_type": "stream",
     "text": [
      "[[59.51666667 60.03333333 60.00833333 59.74166667 60.         59.95833333]\n",
      " [31.          2.          0.5        44.5         0.         57.5       ]]\n",
      "59.87638888888889\n",
      "0.08398127730793103\n"
     ]
    }
   ],
   "source": [
    "A = np.array([\n",
    "    [59, 60, 60, 59, 60, 59],\n",
    "    [31, 2, 0.5, 44.5, 0, 57.5]\n",
    "    ])\n",
    "\n",
    "for i in range(0,6):\n",
    "    A[0][i] += A[1][i] / 60\n",
    "print(A) \n",
    "\n",
    "sum = 0\n",
    "for i in A[0]:\n",
    "    sum += i\n",
    "print(sum / 6)\n",
    "\n",
    "sum = 0\n",
    "for i in A[0]:\n",
    "    sum += (i - 59.87638888888889) * (i - 59.87638888888889)\n",
    "print(math.sqrt(sum / 30))"
   ]
  },
  {
   "cell_type": "code",
   "execution_count": 26,
   "metadata": {},
   "outputs": [
    {
     "data": {
      "text/plain": [
       "0.08411900425143237"
      ]
     },
     "execution_count": 26,
     "metadata": {},
     "output_type": "execute_result"
    }
   ],
   "source": [
    "math.sqrt(0.0839813 * 0.0839813 + 0.00481125 * 0.00481125)"
   ]
  },
  {
   "cell_type": "code",
   "execution_count": 29,
   "metadata": {},
   "outputs": [
    {
     "name": "stdout",
     "output_type": "stream",
     "text": [
      "[[-53 -54 -54]\n",
      " [-39  25  21]]\n",
      "[[-53 306 -54]\n",
      " [-44  18  17]]\n"
     ]
    }
   ],
   "source": [
    "a1 = np.array([\n",
    "    [133, 208, 285],\n",
    "    [59, 32, 34]\n",
    "])\n",
    "\n",
    "a2 = np.array([\n",
    "    [80, 154, 231],\n",
    "    [20, 57, 55]\n",
    "])\n",
    "\n",
    "a2_a1 = np.array([\n",
    "    [0, 0, 0],\n",
    "    [0, 0, 0]\n",
    "    ])\n",
    "\n",
    "for i in range(0,3):\n",
    "    a2_a1[0][i] = a2[0][i] - a1[0][i]\n",
    "    a2_a1[1][i] = a2[1][i] - a1[1][i]\n",
    "print(a2_a1) \n",
    "\n",
    "#============================================\n",
    "b1 = np.array([\n",
    "    [313, 28, 105],\n",
    "    [58, 39, 41]\n",
    "])\n",
    "\n",
    "b2 = np.array([\n",
    "    [260, 334, 51],\n",
    "    [14, 57, 58]\n",
    "])\n",
    "\n",
    "b2_b1 = np.array([\n",
    "    [0, 0, 0],\n",
    "    [0, 0, 0]\n",
    "    ])\n",
    "\n",
    "for i in range(0,3):\n",
    "    b2_b1[0][i] = b2[0][i] - b1[0][i]\n",
    "    b2_b1[1][i] = b2[1][i] - b1[1][i]\n",
    "print(b2_b1) \n",
    "#============================================\n"
   ]
  },
  {
   "cell_type": "code",
   "execution_count": 33,
   "metadata": {},
   "outputs": [
    {
     "name": "stdout",
     "output_type": "stream",
     "text": [
      "[[-106  252 -108]\n",
      " [ -83   43   38]]\n",
      "[[-107.38333333  252.71666667 -107.36666667]\n",
      " [ -83.           43.           38.        ]]\n",
      "-53.69166666666667\n",
      "126.35833333333333\n",
      "-53.68333333333333\n"
     ]
    }
   ],
   "source": [
    "delta_m = np.array([\n",
    "    [0, 0, 0],\n",
    "    [0, 0, 0]\n",
    "    ])\n",
    "for i in range(0,3):\n",
    "    delta_m[0][i] = a2_a1[0][i] + b2_b1[0][i]\n",
    "    delta_m[1][i] = a2_a1[1][i] + b2_b1[1][i]\n",
    "print(delta_m)\n",
    "\n",
    "delta_m2 = np.array([\n",
    "    [-106, 252, -108],\n",
    "    [-83.0, 43.0, 38.0]\n",
    "    ])\n",
    "\n",
    "for i in range(0,3):\n",
    "    delta_m2[0][i] += delta_m2[1][i] / 60\n",
    "print(delta_m2) \n",
    "\n",
    "for i in delta_m2[0]:\n",
    "    print(i/2)"
   ]
  },
  {
   "cell_type": "code",
   "execution_count": 34,
   "metadata": {},
   "outputs": [
    {
     "data": {
      "text/plain": [
       "53.641666666666666"
      ]
     },
     "execution_count": 34,
     "metadata": {},
     "output_type": "execute_result"
    }
   ],
   "source": [
    "180 - 126.35833333333333"
   ]
  },
  {
   "cell_type": "code",
   "execution_count": 36,
   "metadata": {},
   "outputs": [
    {
     "name": "stdout",
     "output_type": "stream",
     "text": [
      "1.6762992212079861\n",
      "1.6758201732123679\n",
      "1.6762193381767916\n"
     ]
    }
   ],
   "source": [
    "delta_m3 = [53.69167, 53.64167, 53.68333]\n",
    "\n",
    "for i in delta_m3:\n",
    "    print(np.sin(np.radians((59.88 + i)/2)) / np.sin(np.radians(59.88/2)))"
   ]
  },
  {
   "cell_type": "code",
   "execution_count": 37,
   "metadata": {},
   "outputs": [
    {
     "data": {
      "text/plain": [
       "1.6761133333333333"
      ]
     },
     "execution_count": 37,
     "metadata": {},
     "output_type": "execute_result"
    }
   ],
   "source": [
    "(1.67630+1.67582+1.67622)/3"
   ]
  }
 ],
 "metadata": {
  "kernelspec": {
   "display_name": ".venv",
   "language": "python",
   "name": "python3"
  },
  "language_info": {
   "codemirror_mode": {
    "name": "ipython",
    "version": 3
   },
   "file_extension": ".py",
   "mimetype": "text/x-python",
   "name": "python",
   "nbconvert_exporter": "python",
   "pygments_lexer": "ipython3",
   "version": "3.10.4"
  }
 },
 "nbformat": 4,
 "nbformat_minor": 2
}
