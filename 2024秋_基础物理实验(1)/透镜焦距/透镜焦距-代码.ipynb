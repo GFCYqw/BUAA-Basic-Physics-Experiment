{
 "cells": [
  {
   "cell_type": "code",
   "execution_count": 2,
   "metadata": {},
   "outputs": [],
   "source": [
    "import numpy as np\n",
    "import math\n",
    "import matplotlib.pyplot as plt"
   ]
  },
  {
   "cell_type": "code",
   "execution_count": 17,
   "metadata": {},
   "outputs": [
    {
     "name": "stdout",
     "output_type": "stream",
     "text": [
      "91.82000000000001\n",
      "0.02049390153191928\n",
      "80.85600000000001\n",
      "0.022271057451320887\n"
     ]
    }
   ],
   "source": [
    "a = [20.825, 20.79, 20.92]\n",
    "\n",
    "L1 = [61.02, 61.00, 60.89, 60.92, 61.00]\n",
    "L2 = [60.45, 60.38, 60.50, 60.42, 60.52]\n",
    "L = []\n",
    "\n",
    "X11 = [91.72, 91.62, 91.60, 91.68, 91.70]\n",
    "X12 = [92.02, 92.00, 91.90, 91.96, 92.00]\n",
    "X1 = []\n",
    "\n",
    "X21 = [81.00, 81.04, 80.96, 80.96, 81.10]\n",
    "X22 = [80.80, 80.76, 80.72, 80.60, 80.62]\n",
    "X2 = []\n",
    "\n",
    "for L1_i, L2_i in zip(L1, L2):\n",
    "    L.append((L1_i + L2_i) / 2)\n",
    "for X11_i, X12_i in zip(X11, X12):\n",
    "    X1.append((X11_i + X12_i) / 2)\n",
    "for X21_i, X22_i in zip(X21, X22):\n",
    "    X2.append((X21_i + X22_i) / 2)\n",
    "\n",
    "\n",
    "def average(x, n):\n",
    "    return np.sum(x) / n\n",
    "\n",
    "\n",
    "def mu_a(x, n):\n",
    "    return np.sqrt(np.sum([(i - average(x, n)) ** 2 for i in x]) / ((n - 1) * n))\n",
    "\n",
    "\n",
    "# print(average(a，n))\n",
    "# print(mu_a(a，n))\n",
    "# print(average(L, 5))\n",
    "# print(mu_a(L, 5))\n",
    "print(average(X1, 5))\n",
    "print(mu_a(X1, 5))\n",
    "print(average(X2, 5))\n",
    "print(mu_a(X2, 5))"
   ]
  },
  {
   "cell_type": "code",
   "execution_count": 18,
   "metadata": {},
   "outputs": [
    {
     "name": "stdout",
     "output_type": "stream",
     "text": [
      "12.0\n",
      "2.0 None\n"
     ]
    }
   ],
   "source": [
    "a = [1, 2, 3]\n",
    "b = 1\n",
    "\n",
    "\n",
    "def average(x):\n",
    "    return np.sum(x) / 3\n",
    "\n",
    "\n",
    "def mu_a(x):\n",
    "    print(np.sum([i + average(x) for i in x]))\n",
    "\n",
    "\n",
    "print(average(a), mu_a(a))"
   ]
  },
  {
   "cell_type": "code",
   "execution_count": null,
   "metadata": {},
   "outputs": [
    {
     "name": "stdout",
     "output_type": "stream",
     "text": [
      "0.047669288225452175\n",
      "0.008248693634532244\n",
      "0.17304\n"
     ]
    }
   ],
   "source": [
    "m1 = np.sqrt((2.8868e-2 / (52.1 - 38.8)) ** 2 + (0.43301 / 270) ** 2)\n",
    "m2 = 4.899e-3 / average(m_p)\n",
    "m3 = (\n",
    "    2\n",
    "    * np.sqrt(0.03709 * average(h_p) ** 2 + (7.4833e-3 * average(d_p)) ** 2)\n",
    "    / (average(d_p) + 4 * average(h_p))\n",
    "    / (average(d_p) + 2 * average(h_p))\n",
    ")\n",
    "m4 = np.sqrt(\n",
    "    (0.3499 / average(d_b)) ** 2\n",
    "    + (0.37094 / average(h_b)) ** 2\n",
    "    + (5.7735e-2 / (78 - 45.1)) ** 2\n",
    ")\n",
    "m_k = np.sqrt(m1**2 + m2**2 + m3**2 + m4**2)\n",
    "print(m_k)\n",
    "print(m_k * 0.17304)\n",
    "print(0.17304)"
   ]
  }
 ],
 "metadata": {
  "kernelspec": {
   "display_name": ".venv",
   "language": "python",
   "name": "python3"
  },
  "language_info": {
   "codemirror_mode": {
    "name": "ipython",
    "version": 3
   },
   "file_extension": ".py",
   "mimetype": "text/x-python",
   "name": "python",
   "nbconvert_exporter": "python",
   "pygments_lexer": "ipython3",
   "version": "3.10.4"
  }
 },
 "nbformat": 4,
 "nbformat_minor": 2
}
